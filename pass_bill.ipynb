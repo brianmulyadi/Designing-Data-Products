{
  "nbformat": 4,
  "nbformat_minor": 0,
  "metadata": {
    "colab": {
      "provenance": [],
      "collapsed_sections": [],
      "authorship_tag": "ABX9TyOsJPIkGN4IIi3FIWajIRu4",
      "include_colab_link": true
    },
    "kernelspec": {
      "name": "python3",
      "display_name": "Python 3"
    },
    "language_info": {
      "name": "python"
    }
  },
  "cells": [
    {
      "cell_type": "markdown",
      "metadata": {
        "id": "view-in-github",
        "colab_type": "text"
      },
      "source": [
        "<a href=\"https://colab.research.google.com/github/brianmulyadi/Designing-Data-Products/blob/main/pass_bill.ipynb\" target=\"_parent\"><img src=\"https://colab.research.google.com/assets/colab-badge.svg\" alt=\"Open In Colab\"/></a>"
      ]
    },
    {
      "cell_type": "code",
      "execution_count": 1,
      "metadata": {
        "colab": {
          "base_uri": "https://localhost:8080/"
        },
        "id": "sfn0JUQ4z-GI",
        "outputId": "beb4ba68-962d-44a5-8fdb-0345cbca35af"
      },
      "outputs": [
        {
          "output_type": "stream",
          "name": "stdout",
          "text": [
            "Mounted at /content/drive\n"
          ]
        }
      ],
      "source": [
        "#Start by connecting gdrive into the google colab\n",
        "\n",
        "from google.colab import drive\n",
        "drive.mount('/content/drive')"
      ]
    },
    {
      "cell_type": "code",
      "source": [
        "# import libraries\n",
        "import pandas as pd\n",
        "import numpy as np\n",
        "import seaborn as sns\n",
        "import requests\n",
        "from datetime import datetime\n",
        "from datetime import date\n",
        "\n",
        "from sklearn.tree import DecisionTreeClassifier # Import Decision Tree Classifier\n",
        "from sklearn.linear_model import LogisticRegression\n",
        "from sklearn.ensemble import RandomForestClassifier\n",
        "from sklearn import metrics #Import scikit-learn metrics module for accuracy calculation\n",
        "from sklearn.metrics import confusion_matrix, classification_report\n",
        "from sklearn import tree\n",
        "from sklearn.tree import plot_tree\n",
        "import matplotlib.pyplot as plt"
      ],
      "metadata": {
        "id": "ZSP1_njZ7Car"
      },
      "execution_count": 65,
      "outputs": []
    },
    {
      "cell_type": "code",
      "source": [
        "df = pd.read_csv('drive/MyDrive/bigML_115_Rep.csv', parse_dates=True, index_col=0, header=0)"
      ],
      "metadata": {
        "id": "cUgDM1Tg4p6S"
      },
      "execution_count": 8,
      "outputs": []
    },
    {
      "cell_type": "code",
      "source": [
        "df.info()"
      ],
      "metadata": {
        "colab": {
          "base_uri": "https://localhost:8080/"
        },
        "id": "4_lkq3778mTI",
        "outputId": "f3e1b9b4-963c-4021-8984-a13f9b5527d0"
      },
      "execution_count": 9,
      "outputs": [
        {
          "output_type": "stream",
          "name": "stdout",
          "text": [
            "<class 'pandas.core.frame.DataFrame'>\n",
            "Int64Index: 7394 entries, 0 to 7393\n",
            "Data columns (total 9 columns):\n",
            " #   Column             Non-Null Count  Dtype  \n",
            "---  ------             --------------  -----  \n",
            " 0   policyArea         7351 non-null   object \n",
            " 1   issponsorPartyR    7394 non-null   int64  \n",
            " 2   cosponsors         7394 non-null   int64  \n",
            " 3   cosponsorsRep      7394 non-null   float64\n",
            " 4   billStatus         7394 non-null   int64  \n",
            " 5   leadershipRole     7394 non-null   int64  \n",
            " 6   dwNominate         7394 non-null   float64\n",
            " 7   seniority          7394 non-null   int64  \n",
            " 8   votesAgainstParty  7394 non-null   float64\n",
            "dtypes: float64(3), int64(5), object(1)\n",
            "memory usage: 577.7+ KB\n"
          ]
        }
      ]
    },
    {
      "cell_type": "code",
      "source": [
        "df.describe()"
      ],
      "metadata": {
        "colab": {
          "base_uri": "https://localhost:8080/",
          "height": 300
        },
        "id": "hFHLZ_gm7I2R",
        "outputId": "8bd407df-b093-4e99-8b7b-76dd0d4621a4"
      },
      "execution_count": 10,
      "outputs": [
        {
          "output_type": "execute_result",
          "data": {
            "text/plain": [
              "       issponsorPartyR   cosponsors  cosponsorsRep   billStatus  \\\n",
              "count      7394.000000  7394.000000    7394.000000  7394.000000   \n",
              "mean          0.525156    15.429402       0.555762     0.134974   \n",
              "std           0.499401    34.040479       0.421360     0.341719   \n",
              "min           0.000000     0.000000      -1.000000     0.000000   \n",
              "25%           0.000000     1.000000       0.000000     0.000000   \n",
              "50%           1.000000     4.000000       0.600000     0.000000   \n",
              "75%           1.000000    14.000000       1.000000     0.000000   \n",
              "max           1.000000   385.000000       1.000000     1.000000   \n",
              "\n",
              "       leadershipRole   dwNominate    seniority  votesAgainstParty  \n",
              "count     7394.000000  7394.000000  7394.000000        7394.000000  \n",
              "mean         0.216121     0.065975    11.787666           4.657073  \n",
              "std          0.411626     0.451404     9.634513           3.516017  \n",
              "min          0.000000    -0.702000     2.000000           0.000000  \n",
              "25%          0.000000    -0.387000     6.000000           2.740000  \n",
              "50%          0.000000     0.215000     8.000000           3.600000  \n",
              "75%          0.000000     0.496000    16.000000           5.560000  \n",
              "max          1.000000     0.931000    54.000000          38.730000  "
            ],
            "text/html": [
              "\n",
              "  <div id=\"df-4898753f-1afb-44a1-819c-da62fae716af\">\n",
              "    <div class=\"colab-df-container\">\n",
              "      <div>\n",
              "<style scoped>\n",
              "    .dataframe tbody tr th:only-of-type {\n",
              "        vertical-align: middle;\n",
              "    }\n",
              "\n",
              "    .dataframe tbody tr th {\n",
              "        vertical-align: top;\n",
              "    }\n",
              "\n",
              "    .dataframe thead th {\n",
              "        text-align: right;\n",
              "    }\n",
              "</style>\n",
              "<table border=\"1\" class=\"dataframe\">\n",
              "  <thead>\n",
              "    <tr style=\"text-align: right;\">\n",
              "      <th></th>\n",
              "      <th>issponsorPartyR</th>\n",
              "      <th>cosponsors</th>\n",
              "      <th>cosponsorsRep</th>\n",
              "      <th>billStatus</th>\n",
              "      <th>leadershipRole</th>\n",
              "      <th>dwNominate</th>\n",
              "      <th>seniority</th>\n",
              "      <th>votesAgainstParty</th>\n",
              "    </tr>\n",
              "  </thead>\n",
              "  <tbody>\n",
              "    <tr>\n",
              "      <th>count</th>\n",
              "      <td>7394.000000</td>\n",
              "      <td>7394.000000</td>\n",
              "      <td>7394.000000</td>\n",
              "      <td>7394.000000</td>\n",
              "      <td>7394.000000</td>\n",
              "      <td>7394.000000</td>\n",
              "      <td>7394.000000</td>\n",
              "      <td>7394.000000</td>\n",
              "    </tr>\n",
              "    <tr>\n",
              "      <th>mean</th>\n",
              "      <td>0.525156</td>\n",
              "      <td>15.429402</td>\n",
              "      <td>0.555762</td>\n",
              "      <td>0.134974</td>\n",
              "      <td>0.216121</td>\n",
              "      <td>0.065975</td>\n",
              "      <td>11.787666</td>\n",
              "      <td>4.657073</td>\n",
              "    </tr>\n",
              "    <tr>\n",
              "      <th>std</th>\n",
              "      <td>0.499401</td>\n",
              "      <td>34.040479</td>\n",
              "      <td>0.421360</td>\n",
              "      <td>0.341719</td>\n",
              "      <td>0.411626</td>\n",
              "      <td>0.451404</td>\n",
              "      <td>9.634513</td>\n",
              "      <td>3.516017</td>\n",
              "    </tr>\n",
              "    <tr>\n",
              "      <th>min</th>\n",
              "      <td>0.000000</td>\n",
              "      <td>0.000000</td>\n",
              "      <td>-1.000000</td>\n",
              "      <td>0.000000</td>\n",
              "      <td>0.000000</td>\n",
              "      <td>-0.702000</td>\n",
              "      <td>2.000000</td>\n",
              "      <td>0.000000</td>\n",
              "    </tr>\n",
              "    <tr>\n",
              "      <th>25%</th>\n",
              "      <td>0.000000</td>\n",
              "      <td>1.000000</td>\n",
              "      <td>0.000000</td>\n",
              "      <td>0.000000</td>\n",
              "      <td>0.000000</td>\n",
              "      <td>-0.387000</td>\n",
              "      <td>6.000000</td>\n",
              "      <td>2.740000</td>\n",
              "    </tr>\n",
              "    <tr>\n",
              "      <th>50%</th>\n",
              "      <td>1.000000</td>\n",
              "      <td>4.000000</td>\n",
              "      <td>0.600000</td>\n",
              "      <td>0.000000</td>\n",
              "      <td>0.000000</td>\n",
              "      <td>0.215000</td>\n",
              "      <td>8.000000</td>\n",
              "      <td>3.600000</td>\n",
              "    </tr>\n",
              "    <tr>\n",
              "      <th>75%</th>\n",
              "      <td>1.000000</td>\n",
              "      <td>14.000000</td>\n",
              "      <td>1.000000</td>\n",
              "      <td>0.000000</td>\n",
              "      <td>0.000000</td>\n",
              "      <td>0.496000</td>\n",
              "      <td>16.000000</td>\n",
              "      <td>5.560000</td>\n",
              "    </tr>\n",
              "    <tr>\n",
              "      <th>max</th>\n",
              "      <td>1.000000</td>\n",
              "      <td>385.000000</td>\n",
              "      <td>1.000000</td>\n",
              "      <td>1.000000</td>\n",
              "      <td>1.000000</td>\n",
              "      <td>0.931000</td>\n",
              "      <td>54.000000</td>\n",
              "      <td>38.730000</td>\n",
              "    </tr>\n",
              "  </tbody>\n",
              "</table>\n",
              "</div>\n",
              "      <button class=\"colab-df-convert\" onclick=\"convertToInteractive('df-4898753f-1afb-44a1-819c-da62fae716af')\"\n",
              "              title=\"Convert this dataframe to an interactive table.\"\n",
              "              style=\"display:none;\">\n",
              "        \n",
              "  <svg xmlns=\"http://www.w3.org/2000/svg\" height=\"24px\"viewBox=\"0 0 24 24\"\n",
              "       width=\"24px\">\n",
              "    <path d=\"M0 0h24v24H0V0z\" fill=\"none\"/>\n",
              "    <path d=\"M18.56 5.44l.94 2.06.94-2.06 2.06-.94-2.06-.94-.94-2.06-.94 2.06-2.06.94zm-11 1L8.5 8.5l.94-2.06 2.06-.94-2.06-.94L8.5 2.5l-.94 2.06-2.06.94zm10 10l.94 2.06.94-2.06 2.06-.94-2.06-.94-.94-2.06-.94 2.06-2.06.94z\"/><path d=\"M17.41 7.96l-1.37-1.37c-.4-.4-.92-.59-1.43-.59-.52 0-1.04.2-1.43.59L10.3 9.45l-7.72 7.72c-.78.78-.78 2.05 0 2.83L4 21.41c.39.39.9.59 1.41.59.51 0 1.02-.2 1.41-.59l7.78-7.78 2.81-2.81c.8-.78.8-2.07 0-2.86zM5.41 20L4 18.59l7.72-7.72 1.47 1.35L5.41 20z\"/>\n",
              "  </svg>\n",
              "      </button>\n",
              "      \n",
              "  <style>\n",
              "    .colab-df-container {\n",
              "      display:flex;\n",
              "      flex-wrap:wrap;\n",
              "      gap: 12px;\n",
              "    }\n",
              "\n",
              "    .colab-df-convert {\n",
              "      background-color: #E8F0FE;\n",
              "      border: none;\n",
              "      border-radius: 50%;\n",
              "      cursor: pointer;\n",
              "      display: none;\n",
              "      fill: #1967D2;\n",
              "      height: 32px;\n",
              "      padding: 0 0 0 0;\n",
              "      width: 32px;\n",
              "    }\n",
              "\n",
              "    .colab-df-convert:hover {\n",
              "      background-color: #E2EBFA;\n",
              "      box-shadow: 0px 1px 2px rgba(60, 64, 67, 0.3), 0px 1px 3px 1px rgba(60, 64, 67, 0.15);\n",
              "      fill: #174EA6;\n",
              "    }\n",
              "\n",
              "    [theme=dark] .colab-df-convert {\n",
              "      background-color: #3B4455;\n",
              "      fill: #D2E3FC;\n",
              "    }\n",
              "\n",
              "    [theme=dark] .colab-df-convert:hover {\n",
              "      background-color: #434B5C;\n",
              "      box-shadow: 0px 1px 3px 1px rgba(0, 0, 0, 0.15);\n",
              "      filter: drop-shadow(0px 1px 2px rgba(0, 0, 0, 0.3));\n",
              "      fill: #FFFFFF;\n",
              "    }\n",
              "  </style>\n",
              "\n",
              "      <script>\n",
              "        const buttonEl =\n",
              "          document.querySelector('#df-4898753f-1afb-44a1-819c-da62fae716af button.colab-df-convert');\n",
              "        buttonEl.style.display =\n",
              "          google.colab.kernel.accessAllowed ? 'block' : 'none';\n",
              "\n",
              "        async function convertToInteractive(key) {\n",
              "          const element = document.querySelector('#df-4898753f-1afb-44a1-819c-da62fae716af');\n",
              "          const dataTable =\n",
              "            await google.colab.kernel.invokeFunction('convertToInteractive',\n",
              "                                                     [key], {});\n",
              "          if (!dataTable) return;\n",
              "\n",
              "          const docLinkHtml = 'Like what you see? Visit the ' +\n",
              "            '<a target=\"_blank\" href=https://colab.research.google.com/notebooks/data_table.ipynb>data table notebook</a>'\n",
              "            + ' to learn more about interactive tables.';\n",
              "          element.innerHTML = '';\n",
              "          dataTable['output_type'] = 'display_data';\n",
              "          await google.colab.output.renderOutput(dataTable, element);\n",
              "          const docLink = document.createElement('div');\n",
              "          docLink.innerHTML = docLinkHtml;\n",
              "          element.appendChild(docLink);\n",
              "        }\n",
              "      </script>\n",
              "    </div>\n",
              "  </div>\n",
              "  "
            ]
          },
          "metadata": {},
          "execution_count": 10
        }
      ]
    },
    {
      "cell_type": "code",
      "source": [
        "# sns.countplot(x=raw_data['billStatus'])\n",
        "# sns.countplot(y=raw_data['policyArea'], order = raw_data['policyArea'].value_counts().index)"
      ],
      "metadata": {
        "id": "X-T9rW-38ZNG"
      },
      "execution_count": 11,
      "outputs": []
    },
    {
      "cell_type": "code",
      "source": [
        "# create dummy variables for policy area\n",
        "df['policyArea'] = df['policyArea'].fillna('Other')\n",
        "df = pd.get_dummies(df,columns=['policyArea'])\n",
        "df.head()"
      ],
      "metadata": {
        "id": "B0j2xmVTfIlu",
        "colab": {
          "base_uri": "https://localhost:8080/",
          "height": 334
        },
        "outputId": "9962e664-6e1a-4716-ae44-60f17adf58c2"
      },
      "execution_count": 12,
      "outputs": [
        {
          "output_type": "execute_result",
          "data": {
            "text/plain": [
              "   issponsorPartyR  cosponsors  cosponsorsRep  billStatus  leadershipRole  \\\n",
              "0                1          24       1.000000           1               0   \n",
              "1                1           0       1.000000           1               0   \n",
              "2                1          16       1.000000           1               1   \n",
              "3                1          15       0.533333           1               1   \n",
              "4                1          25       0.960000           1               1   \n",
              "\n",
              "   dwNominate  seniority  votesAgainstParty  policyArea_Agriculture and Food  \\\n",
              "0       0.518         22               1.47                                0   \n",
              "1       0.590         14               4.74                                1   \n",
              "2       0.462         12               1.43                                0   \n",
              "3       0.374         18               3.49                                0   \n",
              "4       0.496         26               1.95                                0   \n",
              "\n",
              "   policyArea_Animals  ...  policyArea_Native Americans  policyArea_Other  \\\n",
              "0                   0  ...                            0                 0   \n",
              "1                   0  ...                            0                 0   \n",
              "2                   0  ...                            0                 0   \n",
              "3                   0  ...                            0                 0   \n",
              "4                   0  ...                            0                 0   \n",
              "\n",
              "   policyArea_Public Lands and Natural Resources  \\\n",
              "0                                              0   \n",
              "1                                              0   \n",
              "2                                              0   \n",
              "3                                              0   \n",
              "4                                              0   \n",
              "\n",
              "   policyArea_Science, Technology, Communications  \\\n",
              "0                                               0   \n",
              "1                                               0   \n",
              "2                                               0   \n",
              "3                                               0   \n",
              "4                                               0   \n",
              "\n",
              "   policyArea_Social Sciences and History  policyArea_Social Welfare  \\\n",
              "0                                       0                          0   \n",
              "1                                       0                          0   \n",
              "2                                       0                          0   \n",
              "3                                       0                          0   \n",
              "4                                       0                          0   \n",
              "\n",
              "   policyArea_Sports and Recreation  policyArea_Taxation  \\\n",
              "0                                 0                    1   \n",
              "1                                 0                    0   \n",
              "2                                 0                    0   \n",
              "3                                 0                    0   \n",
              "4                                 0                    0   \n",
              "\n",
              "   policyArea_Transportation and Public Works  \\\n",
              "0                                           0   \n",
              "1                                           0   \n",
              "2                                           0   \n",
              "3                                           1   \n",
              "4                                           0   \n",
              "\n",
              "   policyArea_Water Resources Development  \n",
              "0                                       0  \n",
              "1                                       0  \n",
              "2                                       0  \n",
              "3                                       0  \n",
              "4                                       0  \n",
              "\n",
              "[5 rows x 41 columns]"
            ],
            "text/html": [
              "\n",
              "  <div id=\"df-611b8367-9816-4a53-82bd-a1d5d0470d7e\">\n",
              "    <div class=\"colab-df-container\">\n",
              "      <div>\n",
              "<style scoped>\n",
              "    .dataframe tbody tr th:only-of-type {\n",
              "        vertical-align: middle;\n",
              "    }\n",
              "\n",
              "    .dataframe tbody tr th {\n",
              "        vertical-align: top;\n",
              "    }\n",
              "\n",
              "    .dataframe thead th {\n",
              "        text-align: right;\n",
              "    }\n",
              "</style>\n",
              "<table border=\"1\" class=\"dataframe\">\n",
              "  <thead>\n",
              "    <tr style=\"text-align: right;\">\n",
              "      <th></th>\n",
              "      <th>issponsorPartyR</th>\n",
              "      <th>cosponsors</th>\n",
              "      <th>cosponsorsRep</th>\n",
              "      <th>billStatus</th>\n",
              "      <th>leadershipRole</th>\n",
              "      <th>dwNominate</th>\n",
              "      <th>seniority</th>\n",
              "      <th>votesAgainstParty</th>\n",
              "      <th>policyArea_Agriculture and Food</th>\n",
              "      <th>policyArea_Animals</th>\n",
              "      <th>...</th>\n",
              "      <th>policyArea_Native Americans</th>\n",
              "      <th>policyArea_Other</th>\n",
              "      <th>policyArea_Public Lands and Natural Resources</th>\n",
              "      <th>policyArea_Science, Technology, Communications</th>\n",
              "      <th>policyArea_Social Sciences and History</th>\n",
              "      <th>policyArea_Social Welfare</th>\n",
              "      <th>policyArea_Sports and Recreation</th>\n",
              "      <th>policyArea_Taxation</th>\n",
              "      <th>policyArea_Transportation and Public Works</th>\n",
              "      <th>policyArea_Water Resources Development</th>\n",
              "    </tr>\n",
              "  </thead>\n",
              "  <tbody>\n",
              "    <tr>\n",
              "      <th>0</th>\n",
              "      <td>1</td>\n",
              "      <td>24</td>\n",
              "      <td>1.000000</td>\n",
              "      <td>1</td>\n",
              "      <td>0</td>\n",
              "      <td>0.518</td>\n",
              "      <td>22</td>\n",
              "      <td>1.47</td>\n",
              "      <td>0</td>\n",
              "      <td>0</td>\n",
              "      <td>...</td>\n",
              "      <td>0</td>\n",
              "      <td>0</td>\n",
              "      <td>0</td>\n",
              "      <td>0</td>\n",
              "      <td>0</td>\n",
              "      <td>0</td>\n",
              "      <td>0</td>\n",
              "      <td>1</td>\n",
              "      <td>0</td>\n",
              "      <td>0</td>\n",
              "    </tr>\n",
              "    <tr>\n",
              "      <th>1</th>\n",
              "      <td>1</td>\n",
              "      <td>0</td>\n",
              "      <td>1.000000</td>\n",
              "      <td>1</td>\n",
              "      <td>0</td>\n",
              "      <td>0.590</td>\n",
              "      <td>14</td>\n",
              "      <td>4.74</td>\n",
              "      <td>1</td>\n",
              "      <td>0</td>\n",
              "      <td>...</td>\n",
              "      <td>0</td>\n",
              "      <td>0</td>\n",
              "      <td>0</td>\n",
              "      <td>0</td>\n",
              "      <td>0</td>\n",
              "      <td>0</td>\n",
              "      <td>0</td>\n",
              "      <td>0</td>\n",
              "      <td>0</td>\n",
              "      <td>0</td>\n",
              "    </tr>\n",
              "    <tr>\n",
              "      <th>2</th>\n",
              "      <td>1</td>\n",
              "      <td>16</td>\n",
              "      <td>1.000000</td>\n",
              "      <td>1</td>\n",
              "      <td>1</td>\n",
              "      <td>0.462</td>\n",
              "      <td>12</td>\n",
              "      <td>1.43</td>\n",
              "      <td>0</td>\n",
              "      <td>0</td>\n",
              "      <td>...</td>\n",
              "      <td>0</td>\n",
              "      <td>0</td>\n",
              "      <td>0</td>\n",
              "      <td>0</td>\n",
              "      <td>0</td>\n",
              "      <td>0</td>\n",
              "      <td>0</td>\n",
              "      <td>0</td>\n",
              "      <td>0</td>\n",
              "      <td>0</td>\n",
              "    </tr>\n",
              "    <tr>\n",
              "      <th>3</th>\n",
              "      <td>1</td>\n",
              "      <td>15</td>\n",
              "      <td>0.533333</td>\n",
              "      <td>1</td>\n",
              "      <td>1</td>\n",
              "      <td>0.374</td>\n",
              "      <td>18</td>\n",
              "      <td>3.49</td>\n",
              "      <td>0</td>\n",
              "      <td>0</td>\n",
              "      <td>...</td>\n",
              "      <td>0</td>\n",
              "      <td>0</td>\n",
              "      <td>0</td>\n",
              "      <td>0</td>\n",
              "      <td>0</td>\n",
              "      <td>0</td>\n",
              "      <td>0</td>\n",
              "      <td>0</td>\n",
              "      <td>1</td>\n",
              "      <td>0</td>\n",
              "    </tr>\n",
              "    <tr>\n",
              "      <th>4</th>\n",
              "      <td>1</td>\n",
              "      <td>25</td>\n",
              "      <td>0.960000</td>\n",
              "      <td>1</td>\n",
              "      <td>1</td>\n",
              "      <td>0.496</td>\n",
              "      <td>26</td>\n",
              "      <td>1.95</td>\n",
              "      <td>0</td>\n",
              "      <td>0</td>\n",
              "      <td>...</td>\n",
              "      <td>0</td>\n",
              "      <td>0</td>\n",
              "      <td>0</td>\n",
              "      <td>0</td>\n",
              "      <td>0</td>\n",
              "      <td>0</td>\n",
              "      <td>0</td>\n",
              "      <td>0</td>\n",
              "      <td>0</td>\n",
              "      <td>0</td>\n",
              "    </tr>\n",
              "  </tbody>\n",
              "</table>\n",
              "<p>5 rows × 41 columns</p>\n",
              "</div>\n",
              "      <button class=\"colab-df-convert\" onclick=\"convertToInteractive('df-611b8367-9816-4a53-82bd-a1d5d0470d7e')\"\n",
              "              title=\"Convert this dataframe to an interactive table.\"\n",
              "              style=\"display:none;\">\n",
              "        \n",
              "  <svg xmlns=\"http://www.w3.org/2000/svg\" height=\"24px\"viewBox=\"0 0 24 24\"\n",
              "       width=\"24px\">\n",
              "    <path d=\"M0 0h24v24H0V0z\" fill=\"none\"/>\n",
              "    <path d=\"M18.56 5.44l.94 2.06.94-2.06 2.06-.94-2.06-.94-.94-2.06-.94 2.06-2.06.94zm-11 1L8.5 8.5l.94-2.06 2.06-.94-2.06-.94L8.5 2.5l-.94 2.06-2.06.94zm10 10l.94 2.06.94-2.06 2.06-.94-2.06-.94-.94-2.06-.94 2.06-2.06.94z\"/><path d=\"M17.41 7.96l-1.37-1.37c-.4-.4-.92-.59-1.43-.59-.52 0-1.04.2-1.43.59L10.3 9.45l-7.72 7.72c-.78.78-.78 2.05 0 2.83L4 21.41c.39.39.9.59 1.41.59.51 0 1.02-.2 1.41-.59l7.78-7.78 2.81-2.81c.8-.78.8-2.07 0-2.86zM5.41 20L4 18.59l7.72-7.72 1.47 1.35L5.41 20z\"/>\n",
              "  </svg>\n",
              "      </button>\n",
              "      \n",
              "  <style>\n",
              "    .colab-df-container {\n",
              "      display:flex;\n",
              "      flex-wrap:wrap;\n",
              "      gap: 12px;\n",
              "    }\n",
              "\n",
              "    .colab-df-convert {\n",
              "      background-color: #E8F0FE;\n",
              "      border: none;\n",
              "      border-radius: 50%;\n",
              "      cursor: pointer;\n",
              "      display: none;\n",
              "      fill: #1967D2;\n",
              "      height: 32px;\n",
              "      padding: 0 0 0 0;\n",
              "      width: 32px;\n",
              "    }\n",
              "\n",
              "    .colab-df-convert:hover {\n",
              "      background-color: #E2EBFA;\n",
              "      box-shadow: 0px 1px 2px rgba(60, 64, 67, 0.3), 0px 1px 3px 1px rgba(60, 64, 67, 0.15);\n",
              "      fill: #174EA6;\n",
              "    }\n",
              "\n",
              "    [theme=dark] .colab-df-convert {\n",
              "      background-color: #3B4455;\n",
              "      fill: #D2E3FC;\n",
              "    }\n",
              "\n",
              "    [theme=dark] .colab-df-convert:hover {\n",
              "      background-color: #434B5C;\n",
              "      box-shadow: 0px 1px 3px 1px rgba(0, 0, 0, 0.15);\n",
              "      filter: drop-shadow(0px 1px 2px rgba(0, 0, 0, 0.3));\n",
              "      fill: #FFFFFF;\n",
              "    }\n",
              "  </style>\n",
              "\n",
              "      <script>\n",
              "        const buttonEl =\n",
              "          document.querySelector('#df-611b8367-9816-4a53-82bd-a1d5d0470d7e button.colab-df-convert');\n",
              "        buttonEl.style.display =\n",
              "          google.colab.kernel.accessAllowed ? 'block' : 'none';\n",
              "\n",
              "        async function convertToInteractive(key) {\n",
              "          const element = document.querySelector('#df-611b8367-9816-4a53-82bd-a1d5d0470d7e');\n",
              "          const dataTable =\n",
              "            await google.colab.kernel.invokeFunction('convertToInteractive',\n",
              "                                                     [key], {});\n",
              "          if (!dataTable) return;\n",
              "\n",
              "          const docLinkHtml = 'Like what you see? Visit the ' +\n",
              "            '<a target=\"_blank\" href=https://colab.research.google.com/notebooks/data_table.ipynb>data table notebook</a>'\n",
              "            + ' to learn more about interactive tables.';\n",
              "          element.innerHTML = '';\n",
              "          dataTable['output_type'] = 'display_data';\n",
              "          await google.colab.output.renderOutput(dataTable, element);\n",
              "          const docLink = document.createElement('div');\n",
              "          docLink.innerHTML = docLinkHtml;\n",
              "          element.appendChild(docLink);\n",
              "        }\n",
              "      </script>\n",
              "    </div>\n",
              "  </div>\n",
              "  "
            ]
          },
          "metadata": {},
          "execution_count": 12
        }
      ]
    },
    {
      "cell_type": "code",
      "source": [
        "# get list of feature columns\n",
        "featureDf= df.loc[:, ~df.columns.isin(['billStatus'])]\n",
        "featureDf.head()\n",
        "feature_cols = featureDf.columns.values.tolist()\n",
        "del featureDf\n",
        "print(feature_cols)"
      ],
      "metadata": {
        "colab": {
          "base_uri": "https://localhost:8080/"
        },
        "id": "N0mAfv6rfeFM",
        "outputId": "c9b31af1-0ce0-4fdf-e5d2-f3575337da48"
      },
      "execution_count": 13,
      "outputs": [
        {
          "output_type": "stream",
          "name": "stdout",
          "text": [
            "['issponsorPartyR', 'cosponsors', 'cosponsorsRep', 'leadershipRole', 'dwNominate', 'seniority', 'votesAgainstParty', 'policyArea_Agriculture and Food', 'policyArea_Animals', 'policyArea_Armed Forces and National Security', 'policyArea_Arts, Culture, Religion', 'policyArea_Civil Rights and Liberties, Minority Issues', 'policyArea_Commerce', 'policyArea_Congress', 'policyArea_Crime and Law Enforcement', 'policyArea_Economics and Public Finance', 'policyArea_Education', 'policyArea_Emergency Management', 'policyArea_Energy', 'policyArea_Environmental Protection', 'policyArea_Families', 'policyArea_Finance and Financial Sector', 'policyArea_Foreign Trade and International Finance', 'policyArea_Government Operations and Politics', 'policyArea_Health', 'policyArea_Housing and Community Development', 'policyArea_Immigration', 'policyArea_International Affairs', 'policyArea_Labor and Employment', 'policyArea_Law', 'policyArea_Native Americans', 'policyArea_Other', 'policyArea_Public Lands and Natural Resources', 'policyArea_Science, Technology, Communications', 'policyArea_Social Sciences and History', 'policyArea_Social Welfare', 'policyArea_Sports and Recreation', 'policyArea_Taxation', 'policyArea_Transportation and Public Works', 'policyArea_Water Resources Development']\n"
          ]
        }
      ]
    },
    {
      "cell_type": "code",
      "source": [
        "# replace NaN and inf in the dataset\n",
        "df['billStatus'] = df['billStatus'].fillna(0)\n",
        "df['billStatus'].replace([np.inf, -np.inf], 0, inplace = True)\n",
        "df['cosponsorsRep'].replace(np.inf, 0, inplace = True) # change to cosponsorsRep for 115 and cosponsorsDem for 117\n"
      ],
      "metadata": {
        "id": "0zDRFY1-icV2"
      },
      "execution_count": 15,
      "outputs": []
    },
    {
      "cell_type": "code",
      "source": [
        "# check which row has infinite numbers\n",
        "# x = 0\n",
        "# for row in np.isfinite(df['cosponsorsDem']):\n",
        "#   x += 1\n",
        "#   if row == False:\n",
        "#     print(x)"
      ],
      "metadata": {
        "id": "heHSfQOon-Gi"
      },
      "execution_count": 18,
      "outputs": []
    },
    {
      "cell_type": "code",
      "source": [
        "# output to file for dataset check before running models\n",
        "# df.to_csv(\"/for_test.csv\")"
      ],
      "metadata": {
        "id": "3KOdrZWKmyV7"
      },
      "execution_count": 19,
      "outputs": []
    },
    {
      "cell_type": "code",
      "source": [
        "# feature_cols = ['issponsorPartyD','cosponsors','cosponsorsDem','cosponsorsRep','leadershipRole','dwNominate','seniority']\n",
        "from sklearn.model_selection import train_test_split\n",
        "\n",
        "x = df[feature_cols]\n",
        "y = df.billStatus\n",
        "\n",
        "# split into train-test data\n",
        "\n",
        "x_train, x_test, y_train, y_test = train_test_split(x,y, \n",
        "                                   test_size=0.25, \n",
        "                                   shuffle=True)"
      ],
      "metadata": {
        "id": "9iNYbtRjfr3q"
      },
      "execution_count": 49,
      "outputs": []
    },
    {
      "cell_type": "code",
      "source": [
        "# get a rough idea of train test proportion\n",
        "print(y_train.sum())\n",
        "print(y_train.count())\n",
        "print(\"Ratio of passed:\", round(y_train.sum()/y_train.count(),3))\n",
        "print(y_test.sum())\n",
        "print(y_test.count())"
      ],
      "metadata": {
        "colab": {
          "base_uri": "https://localhost:8080/"
        },
        "id": "ynPSPXQ51mkZ",
        "outputId": "be6ddfdf-f5c5-47f3-91c7-e498b163e1eb"
      },
      "execution_count": 51,
      "outputs": [
        {
          "output_type": "stream",
          "name": "stdout",
          "text": [
            "763\n",
            "5545\n",
            "Ratio of passed: 0.138\n",
            "235\n",
            "1849\n"
          ]
        }
      ]
    },
    {
      "cell_type": "markdown",
      "source": [
        "# Logistic Regression"
      ],
      "metadata": {
        "id": "r630HEkwKxYP"
      }
    },
    {
      "cell_type": "code",
      "source": [
        "log = LogisticRegression(max_iter=1500)\n",
        "log.fit(x_train, y_train)\n",
        "y_pred = log.predict(x_test)"
      ],
      "metadata": {
        "id": "YPa29SYFGZZr"
      },
      "execution_count": 60,
      "outputs": []
    },
    {
      "cell_type": "code",
      "source": [
        "print(\"Accuracy:\",metrics.accuracy_score(y_test, y_pred))\n",
        "print(\"Recall:\",metrics.recall_score(y_test,y_pred))\n",
        "print(confusion_matrix(y_test, y_pred))\n",
        "print(classification_report(y_test, y_pred))"
      ],
      "metadata": {
        "colab": {
          "base_uri": "https://localhost:8080/"
        },
        "id": "a0IVKBDvHPnX",
        "outputId": "4d9c3857-6c9d-48f8-ad8a-9d09fe0de4ac"
      },
      "execution_count": 62,
      "outputs": [
        {
          "output_type": "stream",
          "name": "stdout",
          "text": [
            "Accuracy: 0.8739859383450513\n",
            "Recall: 0.05106382978723404\n",
            "[[1604   10]\n",
            " [ 223   12]]\n",
            "              precision    recall  f1-score   support\n",
            "\n",
            "           0       0.88      0.99      0.93      1614\n",
            "           1       0.55      0.05      0.09       235\n",
            "\n",
            "    accuracy                           0.87      1849\n",
            "   macro avg       0.71      0.52      0.51      1849\n",
            "weighted avg       0.84      0.87      0.83      1849\n",
            "\n"
          ]
        }
      ]
    },
    {
      "cell_type": "code",
      "source": [
        "auc = metrics.roc_auc_score(y_test, y_pred)\n",
        "print(auc)"
      ],
      "metadata": {
        "colab": {
          "base_uri": "https://localhost:8080/"
        },
        "id": "MJsF0Om-H5W8",
        "outputId": "c1ab6d80-ded5-4841-e34d-3f2ac9cb5a85"
      },
      "execution_count": 63,
      "outputs": [
        {
          "output_type": "stream",
          "name": "stdout",
          "text": [
            "0.5224340214611511\n"
          ]
        }
      ]
    },
    {
      "cell_type": "code",
      "source": [
        "false_positive_rate, true_positive_rate, thresolds = metrics.roc_curve(y_test, y_pred)\n",
        "\n",
        "plt.figure(figsize=(5, 5), dpi=100)\n",
        "plt.axis('scaled')\n",
        "plt.xlim([0, 1])\n",
        "plt.ylim([0, 1])\n",
        "plt.title(\"AUC & ROC Curve\")\n",
        "plt.plot(false_positive_rate, true_positive_rate, 'g')\n",
        "plt.fill_between(false_positive_rate, true_positive_rate, facecolor='lightgreen', alpha=0.7)\n",
        "plt.text(0.95, 0.05, 'AUC = %0.4f' % auc, ha='right', fontsize=12, weight='bold', color='blue')\n",
        "plt.xlabel(\"False Positive Rate\")\n",
        "plt.ylabel(\"True Positive Rate\")\n",
        "plt.show()"
      ],
      "metadata": {
        "colab": {
          "base_uri": "https://localhost:8080/",
          "height": 480
        },
        "id": "lRwF-SA0H74D",
        "outputId": "23a0f8b9-a5fc-4d35-8ca1-6b9614c8f33d"
      },
      "execution_count": 64,
      "outputs": [
        {
          "output_type": "display_data",
          "data": {
            "text/plain": [
              "<Figure size 500x500 with 1 Axes>"
            ],
            "image/png": "[encoded data removed]"
          },
          "metadata": {
            "needs_background": "light"
          }
        }
      ]
    },
    {
      "cell_type": "markdown",
      "source": [
        "# Decision Tree"
      ],
      "metadata": {
        "id": "41D-Mk2_Kz0D"
      }
    },
    {
      "cell_type": "code",
      "source": [
        "# Create Decision Tree classifer object\n",
        "clf = DecisionTreeClassifier()\n",
        "\n",
        "# Train Decision Tree Classifer\n",
        "clf = clf.fit(x_train,y_train)\n",
        "\n",
        "#Predict the response for test dataset\n",
        "y_pred = clf.predict(x_test)"
      ],
      "metadata": {
        "id": "MhIo1Sjz1LRV"
      },
      "execution_count": 52,
      "outputs": []
    },
    {
      "cell_type": "code",
      "source": [
        "print(\"Accuracy:\",metrics.accuracy_score(y_test, y_pred))\n",
        "print(\"Recall:\",metrics.recall_score(y_test,y_pred))\n",
        "print(confusion_matrix(y_test, y_pred))\n",
        "print(classification_report(y_test, y_pred))\n",
        "print(\"Max Depth:\",clf.tree_.max_depth)\n",
        "print(\"Node Count:\",clf.tree_.node_count)"
      ],
      "metadata": {
        "colab": {
          "base_uri": "https://localhost:8080/"
        },
        "id": "bOQBq0DNgZUU",
        "outputId": "d22e5662-dd77-46ca-80d5-7a45b3593988"
      },
      "execution_count": 53,
      "outputs": [
        {
          "output_type": "stream",
          "name": "stdout",
          "text": [
            "Accuracy: 0.8280151433207139\n",
            "Recall: 0.37872340425531914\n",
            "[[1442  172]\n",
            " [ 146   89]]\n",
            "              precision    recall  f1-score   support\n",
            "\n",
            "           0       0.91      0.89      0.90      1614\n",
            "           1       0.34      0.38      0.36       235\n",
            "\n",
            "    accuracy                           0.83      1849\n",
            "   macro avg       0.62      0.64      0.63      1849\n",
            "weighted avg       0.84      0.83      0.83      1849\n",
            "\n",
            "Max Depth: 29\n",
            "Node Count: 1741\n"
          ]
        }
      ]
    },
    {
      "cell_type": "code",
      "source": [
        "auc = metrics.roc_auc_score(y_test, y_pred)\n",
        "print(auc)"
      ],
      "metadata": {
        "colab": {
          "base_uri": "https://localhost:8080/"
        },
        "id": "kMkO4RaW_kaD",
        "outputId": "0d3b2a39-921b-4ad9-826b-77c0ce346c56"
      },
      "execution_count": 54,
      "outputs": [
        {
          "output_type": "stream",
          "name": "stdout",
          "text": [
            "0.6360779350892458\n"
          ]
        }
      ]
    },
    {
      "cell_type": "code",
      "source": [
        "false_positive_rate, true_positive_rate, thresolds = metrics.roc_curve(y_test, y_pred)\n",
        "\n",
        "plt.figure(figsize=(5, 5), dpi=100)\n",
        "plt.axis('scaled')\n",
        "plt.xlim([0, 1])\n",
        "plt.ylim([0, 1])\n",
        "plt.title(\"AUC & ROC Curve\")\n",
        "plt.plot(false_positive_rate, true_positive_rate, 'g')\n",
        "plt.fill_between(false_positive_rate, true_positive_rate, facecolor='lightgreen', alpha=0.7)\n",
        "plt.text(0.95, 0.05, 'AUC = %0.4f' % auc, ha='right', fontsize=12, weight='bold', color='blue')\n",
        "plt.xlabel(\"False Positive Rate\")\n",
        "plt.ylabel(\"True Positive Rate\")\n",
        "plt.show()"
      ],
      "metadata": {
        "colab": {
          "base_uri": "https://localhost:8080/",
          "height": 480
        },
        "id": "6UDO9Q3GBp8L",
        "outputId": "9da4c20c-1fd3-454f-c6c2-e10d99c66bba"
      },
      "execution_count": 55,
      "outputs": [
        {
          "output_type": "display_data",
          "data": {
            "text/plain": [
              "<Figure size 500x500 with 1 Axes>"
            ],
            "image/png": "[encoded data removed]"
          },
          "metadata": {
            "needs_background": "light"
          }
        }
      ]
    },
    {
      "cell_type": "markdown",
      "source": [
        "# Random Forest"
      ],
      "metadata": {
        "id": "CUtdFtifK1wW"
      }
    },
    {
      "cell_type": "code",
      "source": [
        "forest = RandomForestClassifier(n_estimators = 10)\n",
        "forest.fit(x_train, y_train)\n",
        "y_pred = forest.predict(x_test)"
      ],
      "metadata": {
        "id": "Cow7Z22NINoL"
      },
      "execution_count": 73,
      "outputs": []
    },
    {
      "cell_type": "code",
      "source": [
        "print(\"Accuracy:\",metrics.accuracy_score(y_test, y_pred))\n",
        "print(\"Recall:\",metrics.recall_score(y_test,y_pred))\n",
        "print(confusion_matrix(y_test, y_pred))\n",
        "print(classification_report(y_test, y_pred))"
      ],
      "metadata": {
        "colab": {
          "base_uri": "https://localhost:8080/"
        },
        "id": "6MghL23sJ21m",
        "outputId": "d8cfb1dc-2e42-4dcb-a3fe-1111a8b82ed5"
      },
      "execution_count": 74,
      "outputs": [
        {
          "output_type": "stream",
          "name": "stdout",
          "text": [
            "Accuracy: 0.8702001081665766\n",
            "Recall: 0.2297872340425532\n",
            "[[1555   59]\n",
            " [ 181   54]]\n",
            "              precision    recall  f1-score   support\n",
            "\n",
            "           0       0.90      0.96      0.93      1614\n",
            "           1       0.48      0.23      0.31       235\n",
            "\n",
            "    accuracy                           0.87      1849\n",
            "   macro avg       0.69      0.60      0.62      1849\n",
            "weighted avg       0.84      0.87      0.85      1849\n",
            "\n"
          ]
        }
      ]
    },
    {
      "cell_type": "code",
      "source": [
        "auc = metrics.roc_auc_score(y_test, y_pred)\n",
        "print(auc)"
      ],
      "metadata": {
        "colab": {
          "base_uri": "https://localhost:8080/"
        },
        "id": "9VMPrO9jKV3O",
        "outputId": "db54d7e8-0f64-4467-f2a0-7592c0477798"
      },
      "execution_count": 75,
      "outputs": [
        {
          "output_type": "stream",
          "name": "stdout",
          "text": [
            "0.5966160457697277\n"
          ]
        }
      ]
    },
    {
      "cell_type": "code",
      "source": [
        "false_positive_rate, true_positive_rate, thresolds = metrics.roc_curve(y_test, y_pred)\n",
        "\n",
        "plt.figure(figsize=(5, 5), dpi=100)\n",
        "plt.axis('scaled')\n",
        "plt.xlim([0, 1])\n",
        "plt.ylim([0, 1])\n",
        "plt.title(\"AUC & ROC Curve\")\n",
        "plt.plot(false_positive_rate, true_positive_rate, 'g')\n",
        "plt.fill_between(false_positive_rate, true_positive_rate, facecolor='lightgreen', alpha=0.7)\n",
        "plt.text(0.95, 0.05, 'AUC = %0.4f' % auc, ha='right', fontsize=12, weight='bold', color='blue')\n",
        "plt.xlabel(\"False Positive Rate\")\n",
        "plt.ylabel(\"True Positive Rate\")\n",
        "plt.show()"
      ],
      "metadata": {
        "colab": {
          "base_uri": "https://localhost:8080/",
          "height": 480
        },
        "id": "dNJOGxfWKYMR",
        "outputId": "f5ddf5aa-1168-42d1-e26e-4ebd4ca005f1"
      },
      "execution_count": 76,
      "outputs": [
        {
          "output_type": "display_data",
          "data": {
            "text/plain": [
              "<Figure size 500x500 with 1 Axes>"
            ],
            "image/png": "[encoded data removed]"
          },
          "metadata": {
            "needs_background": "light"
          }
        }
      ]
    },
    {
      "cell_type": "code",
      "source": [
        "# using graphviz\n",
        "# import graphviz\n",
        "\n",
        "# dot_data = tree.export_graphviz(clf, out_file=None)\n",
        "# graph = graphviz.Source(dot_data)\n",
        "# graph"
      ],
      "metadata": {
        "id": "9XOqrQ0Q1S0z"
      },
      "execution_count": 23,
      "outputs": []
    },
    {
      "cell_type": "code",
      "source": [
        "# plt.figure(figsize=(10,10))\n",
        "# a = plot_tree(clf, \n",
        "#               feature_names=feature_cols, \n",
        "#               class_names=True, \n",
        "#               filled=True, \n",
        "#               rounded=True, \n",
        "#               fontsize=14)"
      ],
      "metadata": {
        "id": "f2UWr9WJxSI0"
      },
      "execution_count": 79,
      "outputs": []
    },
    {
      "cell_type": "code",
      "source": [],
      "metadata": {
        "id": "Lawr1vPixVI0"
      },
      "execution_count": null,
      "outputs": []
    }
  ]
}