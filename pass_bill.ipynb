{
  "nbformat": 4,
  "nbformat_minor": 0,
  "metadata": {
    "colab": {
      "provenance": [],
      "collapsed_sections": [],
      "authorship_tag": "ABX9TyMp38ycJddRSfpbj4awgW7C",
      "include_colab_link": true
    },
    "kernelspec": {
      "name": "python3",
      "display_name": "Python 3"
    },
    "language_info": {
      "name": "python"
    }
  },
  "cells": [
    {
      "cell_type": "markdown",
      "metadata": {
        "id": "view-in-github",
        "colab_type": "text"
      },
      "source": [
        "<a href=\"https://colab.research.google.com/github/brianmulyadi/Designing-Data-Products/blob/main/pass_bill.ipynb\" target=\"_parent\"><img src=\"https://colab.research.google.com/assets/colab-badge.svg\" alt=\"Open In Colab\"/></a>"
      ]
    },
    {
      "cell_type": "code",
      "execution_count": 1,
      "metadata": {
        "colab": {
          "base_uri": "https://localhost:8080/"
        },
        "id": "sfn0JUQ4z-GI",
        "outputId": "1531d2c4-7b2f-4d8a-9d43-ad94ce7c14d5"
      },
      "outputs": [
        {
          "output_type": "stream",
          "name": "stdout",
          "text": [
            "Mounted at /content/drive\n"
          ]
        }
      ],
      "source": [
        "#Start by connecting gdrive into the google colab\n",
        "\n",
        "from google.colab import drive\n",
        "drive.mount('/content/drive')"
      ]
    },
    {
      "cell_type": "code",
      "source": [
        "# import libraries\n",
        "import pandas as pd\n",
        "import numpy as np\n",
        "import seaborn as sns\n",
        "import requests\n",
        "from datetime import datetime\n",
        "from datetime import date\n",
        "\n",
        "from sklearn.tree import DecisionTreeClassifier # Import Decision Tree Classifier\n",
        "from sklearn.linear_model import LogisticRegression\n",
        "from sklearn.ensemble import RandomForestClassifier\n",
        "from sklearn import metrics #Import scikit-learn metrics module for accuracy calculation\n",
        "from sklearn.metrics import confusion_matrix, classification_report\n",
        "from sklearn import tree\n",
        "from sklearn.tree import plot_tree\n",
        "import matplotlib.pyplot as plt"
      ],
      "metadata": {
        "id": "ZSP1_njZ7Car"
      },
      "execution_count": 2,
      "outputs": []
    },
    {
      "cell_type": "code",
      "source": [
        "df = pd.read_csv('drive/MyDrive/congress.csv', parse_dates=True, index_col=0, header=0)"
      ],
      "metadata": {
        "id": "cUgDM1Tg4p6S"
      },
      "execution_count": 3,
      "outputs": []
    },
    {
      "cell_type": "code",
      "source": [
        "df.info()"
      ],
      "metadata": {
        "colab": {
          "base_uri": "https://localhost:8080/"
        },
        "id": "4_lkq3778mTI",
        "outputId": "25b8be15-9726-4a34-d359-61a26aff3f77"
      },
      "execution_count": 4,
      "outputs": [
        {
          "output_type": "stream",
          "name": "stdout",
          "text": [
            "<class 'pandas.core.frame.DataFrame'>\n",
            "Int64Index: 13734 entries, 0 to 13733\n",
            "Data columns (total 9 columns):\n",
            " #   Column             Non-Null Count  Dtype  \n",
            "---  ------             --------------  -----  \n",
            " 0   policyArea         13666 non-null  object \n",
            " 1   issponsorPartyMaj  13734 non-null  int64  \n",
            " 2   cosponsors         13734 non-null  int64  \n",
            " 3   cosponsorsMaj      13734 non-null  float64\n",
            " 4   billStatus         13734 non-null  int64  \n",
            " 5   leadershipRole     13734 non-null  int64  \n",
            " 6   dwNominate         13734 non-null  float64\n",
            " 7   seniority          13734 non-null  int64  \n",
            " 8   votesAgainstParty  13734 non-null  float64\n",
            "dtypes: float64(3), int64(5), object(1)\n",
            "memory usage: 1.0+ MB\n"
          ]
        }
      ]
    },
    {
      "cell_type": "code",
      "source": [
        "df.describe()"
      ],
      "metadata": {
        "colab": {
          "base_uri": "https://localhost:8080/",
          "height": 300
        },
        "id": "hFHLZ_gm7I2R",
        "outputId": "31a43903-9a2f-4b23-8b17-e7a12703b9e6"
      },
      "execution_count": 5,
      "outputs": [
        {
          "output_type": "execute_result",
          "data": {
            "text/plain": [
              "       issponsorPartyMaj    cosponsors  cosponsorsMaj    billStatus  \\\n",
              "count       13734.000000  13734.000000   1.373400e+04  13734.000000   \n",
              "mean            0.564948     16.565604            inf      0.101864   \n",
              "std             0.495782     35.382814            NaN      0.302480   \n",
              "min             0.000000      0.000000  -1.000000e+00      0.000000   \n",
              "25%             0.000000      1.000000   0.000000e+00      0.000000   \n",
              "50%             1.000000      4.000000   5.184566e-01      0.000000   \n",
              "75%             1.000000     16.000000   1.000000e+00      0.000000   \n",
              "max             1.000000    385.000000            inf      1.000000   \n",
              "\n",
              "       leadershipRole    dwNominate     seniority  votesAgainstParty  \n",
              "count    13734.000000  13734.000000  13734.000000       13734.000000  \n",
              "mean         0.184651      0.011433     11.692879           4.588020  \n",
              "std          0.388028      0.422774      9.469818           4.858642  \n",
              "min          0.000000     -0.702000      2.000000           0.000000  \n",
              "25%          0.000000     -0.386000      4.000000           1.630000  \n",
              "50%          0.000000      0.000000      8.000000           3.260000  \n",
              "75%          0.000000      0.432000     16.000000           5.410000  \n",
              "max          1.000000      0.931000     54.000000          38.730000  "
            ],
            "text/html": [
              "\n",
              "  <div id=\"df-d79f27fc-fe39-47eb-8927-fe9ebb61ede3\">\n",
              "    <div class=\"colab-df-container\">\n",
              "      <div>\n",
              "<style scoped>\n",
              "    .dataframe tbody tr th:only-of-type {\n",
              "        vertical-align: middle;\n",
              "    }\n",
              "\n",
              "    .dataframe tbody tr th {\n",
              "        vertical-align: top;\n",
              "    }\n",
              "\n",
              "    .dataframe thead th {\n",
              "        text-align: right;\n",
              "    }\n",
              "</style>\n",
              "<table border=\"1\" class=\"dataframe\">\n",
              "  <thead>\n",
              "    <tr style=\"text-align: right;\">\n",
              "      <th></th>\n",
              "      <th>issponsorPartyMaj</th>\n",
              "      <th>cosponsors</th>\n",
              "      <th>cosponsorsMaj</th>\n",
              "      <th>billStatus</th>\n",
              "      <th>leadershipRole</th>\n",
              "      <th>dwNominate</th>\n",
              "      <th>seniority</th>\n",
              "      <th>votesAgainstParty</th>\n",
              "    </tr>\n",
              "  </thead>\n",
              "  <tbody>\n",
              "    <tr>\n",
              "      <th>count</th>\n",
              "      <td>13734.000000</td>\n",
              "      <td>13734.000000</td>\n",
              "      <td>1.373400e+04</td>\n",
              "      <td>13734.000000</td>\n",
              "      <td>13734.000000</td>\n",
              "      <td>13734.000000</td>\n",
              "      <td>13734.000000</td>\n",
              "      <td>13734.000000</td>\n",
              "    </tr>\n",
              "    <tr>\n",
              "      <th>mean</th>\n",
              "      <td>0.564948</td>\n",
              "      <td>16.565604</td>\n",
              "      <td>inf</td>\n",
              "      <td>0.101864</td>\n",
              "      <td>0.184651</td>\n",
              "      <td>0.011433</td>\n",
              "      <td>11.692879</td>\n",
              "      <td>4.588020</td>\n",
              "    </tr>\n",
              "    <tr>\n",
              "      <th>std</th>\n",
              "      <td>0.495782</td>\n",
              "      <td>35.382814</td>\n",
              "      <td>NaN</td>\n",
              "      <td>0.302480</td>\n",
              "      <td>0.388028</td>\n",
              "      <td>0.422774</td>\n",
              "      <td>9.469818</td>\n",
              "      <td>4.858642</td>\n",
              "    </tr>\n",
              "    <tr>\n",
              "      <th>min</th>\n",
              "      <td>0.000000</td>\n",
              "      <td>0.000000</td>\n",
              "      <td>-1.000000e+00</td>\n",
              "      <td>0.000000</td>\n",
              "      <td>0.000000</td>\n",
              "      <td>-0.702000</td>\n",
              "      <td>2.000000</td>\n",
              "      <td>0.000000</td>\n",
              "    </tr>\n",
              "    <tr>\n",
              "      <th>25%</th>\n",
              "      <td>0.000000</td>\n",
              "      <td>1.000000</td>\n",
              "      <td>0.000000e+00</td>\n",
              "      <td>0.000000</td>\n",
              "      <td>0.000000</td>\n",
              "      <td>-0.386000</td>\n",
              "      <td>4.000000</td>\n",
              "      <td>1.630000</td>\n",
              "    </tr>\n",
              "    <tr>\n",
              "      <th>50%</th>\n",
              "      <td>1.000000</td>\n",
              "      <td>4.000000</td>\n",
              "      <td>5.184566e-01</td>\n",
              "      <td>0.000000</td>\n",
              "      <td>0.000000</td>\n",
              "      <td>0.000000</td>\n",
              "      <td>8.000000</td>\n",
              "      <td>3.260000</td>\n",
              "    </tr>\n",
              "    <tr>\n",
              "      <th>75%</th>\n",
              "      <td>1.000000</td>\n",
              "      <td>16.000000</td>\n",
              "      <td>1.000000e+00</td>\n",
              "      <td>0.000000</td>\n",
              "      <td>0.000000</td>\n",
              "      <td>0.432000</td>\n",
              "      <td>16.000000</td>\n",
              "      <td>5.410000</td>\n",
              "    </tr>\n",
              "    <tr>\n",
              "      <th>max</th>\n",
              "      <td>1.000000</td>\n",
              "      <td>385.000000</td>\n",
              "      <td>inf</td>\n",
              "      <td>1.000000</td>\n",
              "      <td>1.000000</td>\n",
              "      <td>0.931000</td>\n",
              "      <td>54.000000</td>\n",
              "      <td>38.730000</td>\n",
              "    </tr>\n",
              "  </tbody>\n",
              "</table>\n",
              "</div>\n",
              "      <button class=\"colab-df-convert\" onclick=\"convertToInteractive('df-d79f27fc-fe39-47eb-8927-fe9ebb61ede3')\"\n",
              "              title=\"Convert this dataframe to an interactive table.\"\n",
              "              style=\"display:none;\">\n",
              "        \n",
              "  <svg xmlns=\"http://www.w3.org/2000/svg\" height=\"24px\"viewBox=\"0 0 24 24\"\n",
              "       width=\"24px\">\n",
              "    <path d=\"M0 0h24v24H0V0z\" fill=\"none\"/>\n",
              "    <path d=\"M18.56 5.44l.94 2.06.94-2.06 2.06-.94-2.06-.94-.94-2.06-.94 2.06-2.06.94zm-11 1L8.5 8.5l.94-2.06 2.06-.94-2.06-.94L8.5 2.5l-.94 2.06-2.06.94zm10 10l.94 2.06.94-2.06 2.06-.94-2.06-.94-.94-2.06-.94 2.06-2.06.94z\"/><path d=\"M17.41 7.96l-1.37-1.37c-.4-.4-.92-.59-1.43-.59-.52 0-1.04.2-1.43.59L10.3 9.45l-7.72 7.72c-.78.78-.78 2.05 0 2.83L4 21.41c.39.39.9.59 1.41.59.51 0 1.02-.2 1.41-.59l7.78-7.78 2.81-2.81c.8-.78.8-2.07 0-2.86zM5.41 20L4 18.59l7.72-7.72 1.47 1.35L5.41 20z\"/>\n",
              "  </svg>\n",
              "      </button>\n",
              "      \n",
              "  <style>\n",
              "    .colab-df-container {\n",
              "      display:flex;\n",
              "      flex-wrap:wrap;\n",
              "      gap: 12px;\n",
              "    }\n",
              "\n",
              "    .colab-df-convert {\n",
              "      background-color: #E8F0FE;\n",
              "      border: none;\n",
              "      border-radius: 50%;\n",
              "      cursor: pointer;\n",
              "      display: none;\n",
              "      fill: #1967D2;\n",
              "      height: 32px;\n",
              "      padding: 0 0 0 0;\n",
              "      width: 32px;\n",
              "    }\n",
              "\n",
              "    .colab-df-convert:hover {\n",
              "      background-color: #E2EBFA;\n",
              "      box-shadow: 0px 1px 2px rgba(60, 64, 67, 0.3), 0px 1px 3px 1px rgba(60, 64, 67, 0.15);\n",
              "      fill: #174EA6;\n",
              "    }\n",
              "\n",
              "    [theme=dark] .colab-df-convert {\n",
              "      background-color: #3B4455;\n",
              "      fill: #D2E3FC;\n",
              "    }\n",
              "\n",
              "    [theme=dark] .colab-df-convert:hover {\n",
              "      background-color: #434B5C;\n",
              "      box-shadow: 0px 1px 3px 1px rgba(0, 0, 0, 0.15);\n",
              "      filter: drop-shadow(0px 1px 2px rgba(0, 0, 0, 0.3));\n",
              "      fill: #FFFFFF;\n",
              "    }\n",
              "  </style>\n",
              "\n",
              "      <script>\n",
              "        const buttonEl =\n",
              "          document.querySelector('#df-d79f27fc-fe39-47eb-8927-fe9ebb61ede3 button.colab-df-convert');\n",
              "        buttonEl.style.display =\n",
              "          google.colab.kernel.accessAllowed ? 'block' : 'none';\n",
              "\n",
              "        async function convertToInteractive(key) {\n",
              "          const element = document.querySelector('#df-d79f27fc-fe39-47eb-8927-fe9ebb61ede3');\n",
              "          const dataTable =\n",
              "            await google.colab.kernel.invokeFunction('convertToInteractive',\n",
              "                                                     [key], {});\n",
              "          if (!dataTable) return;\n",
              "\n",
              "          const docLinkHtml = 'Like what you see? Visit the ' +\n",
              "            '<a target=\"_blank\" href=https://colab.research.google.com/notebooks/data_table.ipynb>data table notebook</a>'\n",
              "            + ' to learn more about interactive tables.';\n",
              "          element.innerHTML = '';\n",
              "          dataTable['output_type'] = 'display_data';\n",
              "          await google.colab.output.renderOutput(dataTable, element);\n",
              "          const docLink = document.createElement('div');\n",
              "          docLink.innerHTML = docLinkHtml;\n",
              "          element.appendChild(docLink);\n",
              "        }\n",
              "      </script>\n",
              "    </div>\n",
              "  </div>\n",
              "  "
            ]
          },
          "metadata": {},
          "execution_count": 5
        }
      ]
    },
    {
      "cell_type": "code",
      "source": [
        "# sns.countplot(x=raw_data['billStatus'])\n",
        "# sns.countplot(y=raw_data['policyArea'], order = raw_data['policyArea'].value_counts().index)"
      ],
      "metadata": {
        "id": "X-T9rW-38ZNG"
      },
      "execution_count": 6,
      "outputs": []
    },
    {
      "cell_type": "code",
      "source": [
        "# create dummy variables for policy area\n",
        "df['policyArea'] = df['policyArea'].fillna('Other')\n",
        "df = pd.get_dummies(df,columns=['policyArea'])\n",
        "df.head()"
      ],
      "metadata": {
        "id": "B0j2xmVTfIlu",
        "colab": {
          "base_uri": "https://localhost:8080/",
          "height": 334
        },
        "outputId": "3177306b-cc1e-4d55-87b3-9874afbb2c4b"
      },
      "execution_count": 7,
      "outputs": [
        {
          "output_type": "execute_result",
          "data": {
            "text/plain": [
              "   issponsorPartyMaj  cosponsors  cosponsorsMaj  billStatus  leadershipRole  \\\n",
              "0                  1          24       1.000000           1               0   \n",
              "1                  1           0       1.000000           1               0   \n",
              "2                  1          16       1.000000           1               1   \n",
              "3                  1          15       0.533333           1               1   \n",
              "4                  1          25       0.960000           1               1   \n",
              "\n",
              "   dwNominate  seniority  votesAgainstParty  policyArea_Agriculture and Food  \\\n",
              "0       0.518         22               1.47                                0   \n",
              "1       0.590         14               4.74                                1   \n",
              "2       0.462         12               1.43                                0   \n",
              "3       0.374         18               3.49                                0   \n",
              "4       0.496         26               1.95                                0   \n",
              "\n",
              "   policyArea_Animals  ...  policyArea_Other  policyArea_Private Legislation  \\\n",
              "0                   0  ...                 0                               0   \n",
              "1                   0  ...                 0                               0   \n",
              "2                   0  ...                 0                               0   \n",
              "3                   0  ...                 0                               0   \n",
              "4                   0  ...                 0                               0   \n",
              "\n",
              "   policyArea_Public Lands and Natural Resources  \\\n",
              "0                                              0   \n",
              "1                                              0   \n",
              "2                                              0   \n",
              "3                                              0   \n",
              "4                                              0   \n",
              "\n",
              "   policyArea_Science, Technology, Communications  \\\n",
              "0                                               0   \n",
              "1                                               0   \n",
              "2                                               0   \n",
              "3                                               0   \n",
              "4                                               0   \n",
              "\n",
              "   policyArea_Social Sciences and History  policyArea_Social Welfare  \\\n",
              "0                                       0                          0   \n",
              "1                                       0                          0   \n",
              "2                                       0                          0   \n",
              "3                                       0                          0   \n",
              "4                                       0                          0   \n",
              "\n",
              "   policyArea_Sports and Recreation  policyArea_Taxation  \\\n",
              "0                                 0                    1   \n",
              "1                                 0                    0   \n",
              "2                                 0                    0   \n",
              "3                                 0                    0   \n",
              "4                                 0                    0   \n",
              "\n",
              "   policyArea_Transportation and Public Works  \\\n",
              "0                                           0   \n",
              "1                                           0   \n",
              "2                                           0   \n",
              "3                                           1   \n",
              "4                                           0   \n",
              "\n",
              "   policyArea_Water Resources Development  \n",
              "0                                       0  \n",
              "1                                       0  \n",
              "2                                       0  \n",
              "3                                       0  \n",
              "4                                       0  \n",
              "\n",
              "[5 rows x 42 columns]"
            ],
            "text/html": [
              "\n",
              "  <div id=\"df-234cef34-317f-4abd-a815-98297ecf6872\">\n",
              "    <div class=\"colab-df-container\">\n",
              "      <div>\n",
              "<style scoped>\n",
              "    .dataframe tbody tr th:only-of-type {\n",
              "        vertical-align: middle;\n",
              "    }\n",
              "\n",
              "    .dataframe tbody tr th {\n",
              "        vertical-align: top;\n",
              "    }\n",
              "\n",
              "    .dataframe thead th {\n",
              "        text-align: right;\n",
              "    }\n",
              "</style>\n",
              "<table border=\"1\" class=\"dataframe\">\n",
              "  <thead>\n",
              "    <tr style=\"text-align: right;\">\n",
              "      <th></th>\n",
              "      <th>issponsorPartyMaj</th>\n",
              "      <th>cosponsors</th>\n",
              "      <th>cosponsorsMaj</th>\n",
              "      <th>billStatus</th>\n",
              "      <th>leadershipRole</th>\n",
              "      <th>dwNominate</th>\n",
              "      <th>seniority</th>\n",
              "      <th>votesAgainstParty</th>\n",
              "      <th>policyArea_Agriculture and Food</th>\n",
              "      <th>policyArea_Animals</th>\n",
              "      <th>...</th>\n",
              "      <th>policyArea_Other</th>\n",
              "      <th>policyArea_Private Legislation</th>\n",
              "      <th>policyArea_Public Lands and Natural Resources</th>\n",
              "      <th>policyArea_Science, Technology, Communications</th>\n",
              "      <th>policyArea_Social Sciences and History</th>\n",
              "      <th>policyArea_Social Welfare</th>\n",
              "      <th>policyArea_Sports and Recreation</th>\n",
              "      <th>policyArea_Taxation</th>\n",
              "      <th>policyArea_Transportation and Public Works</th>\n",
              "      <th>policyArea_Water Resources Development</th>\n",
              "    </tr>\n",
              "  </thead>\n",
              "  <tbody>\n",
              "    <tr>\n",
              "      <th>0</th>\n",
              "      <td>1</td>\n",
              "      <td>24</td>\n",
              "      <td>1.000000</td>\n",
              "      <td>1</td>\n",
              "      <td>0</td>\n",
              "      <td>0.518</td>\n",
              "      <td>22</td>\n",
              "      <td>1.47</td>\n",
              "      <td>0</td>\n",
              "      <td>0</td>\n",
              "      <td>...</td>\n",
              "      <td>0</td>\n",
              "      <td>0</td>\n",
              "      <td>0</td>\n",
              "      <td>0</td>\n",
              "      <td>0</td>\n",
              "      <td>0</td>\n",
              "      <td>0</td>\n",
              "      <td>1</td>\n",
              "      <td>0</td>\n",
              "      <td>0</td>\n",
              "    </tr>\n",
              "    <tr>\n",
              "      <th>1</th>\n",
              "      <td>1</td>\n",
              "      <td>0</td>\n",
              "      <td>1.000000</td>\n",
              "      <td>1</td>\n",
              "      <td>0</td>\n",
              "      <td>0.590</td>\n",
              "      <td>14</td>\n",
              "      <td>4.74</td>\n",
              "      <td>1</td>\n",
              "      <td>0</td>\n",
              "      <td>...</td>\n",
              "      <td>0</td>\n",
              "      <td>0</td>\n",
              "      <td>0</td>\n",
              "      <td>0</td>\n",
              "      <td>0</td>\n",
              "      <td>0</td>\n",
              "      <td>0</td>\n",
              "      <td>0</td>\n",
              "      <td>0</td>\n",
              "      <td>0</td>\n",
              "    </tr>\n",
              "    <tr>\n",
              "      <th>2</th>\n",
              "      <td>1</td>\n",
              "      <td>16</td>\n",
              "      <td>1.000000</td>\n",
              "      <td>1</td>\n",
              "      <td>1</td>\n",
              "      <td>0.462</td>\n",
              "      <td>12</td>\n",
              "      <td>1.43</td>\n",
              "      <td>0</td>\n",
              "      <td>0</td>\n",
              "      <td>...</td>\n",
              "      <td>0</td>\n",
              "      <td>0</td>\n",
              "      <td>0</td>\n",
              "      <td>0</td>\n",
              "      <td>0</td>\n",
              "      <td>0</td>\n",
              "      <td>0</td>\n",
              "      <td>0</td>\n",
              "      <td>0</td>\n",
              "      <td>0</td>\n",
              "    </tr>\n",
              "    <tr>\n",
              "      <th>3</th>\n",
              "      <td>1</td>\n",
              "      <td>15</td>\n",
              "      <td>0.533333</td>\n",
              "      <td>1</td>\n",
              "      <td>1</td>\n",
              "      <td>0.374</td>\n",
              "      <td>18</td>\n",
              "      <td>3.49</td>\n",
              "      <td>0</td>\n",
              "      <td>0</td>\n",
              "      <td>...</td>\n",
              "      <td>0</td>\n",
              "      <td>0</td>\n",
              "      <td>0</td>\n",
              "      <td>0</td>\n",
              "      <td>0</td>\n",
              "      <td>0</td>\n",
              "      <td>0</td>\n",
              "      <td>0</td>\n",
              "      <td>1</td>\n",
              "      <td>0</td>\n",
              "    </tr>\n",
              "    <tr>\n",
              "      <th>4</th>\n",
              "      <td>1</td>\n",
              "      <td>25</td>\n",
              "      <td>0.960000</td>\n",
              "      <td>1</td>\n",
              "      <td>1</td>\n",
              "      <td>0.496</td>\n",
              "      <td>26</td>\n",
              "      <td>1.95</td>\n",
              "      <td>0</td>\n",
              "      <td>0</td>\n",
              "      <td>...</td>\n",
              "      <td>0</td>\n",
              "      <td>0</td>\n",
              "      <td>0</td>\n",
              "      <td>0</td>\n",
              "      <td>0</td>\n",
              "      <td>0</td>\n",
              "      <td>0</td>\n",
              "      <td>0</td>\n",
              "      <td>0</td>\n",
              "      <td>0</td>\n",
              "    </tr>\n",
              "  </tbody>\n",
              "</table>\n",
              "<p>5 rows × 42 columns</p>\n",
              "</div>\n",
              "      <button class=\"colab-df-convert\" onclick=\"convertToInteractive('df-234cef34-317f-4abd-a815-98297ecf6872')\"\n",
              "              title=\"Convert this dataframe to an interactive table.\"\n",
              "              style=\"display:none;\">\n",
              "        \n",
              "  <svg xmlns=\"http://www.w3.org/2000/svg\" height=\"24px\"viewBox=\"0 0 24 24\"\n",
              "       width=\"24px\">\n",
              "    <path d=\"M0 0h24v24H0V0z\" fill=\"none\"/>\n",
              "    <path d=\"M18.56 5.44l.94 2.06.94-2.06 2.06-.94-2.06-.94-.94-2.06-.94 2.06-2.06.94zm-11 1L8.5 8.5l.94-2.06 2.06-.94-2.06-.94L8.5 2.5l-.94 2.06-2.06.94zm10 10l.94 2.06.94-2.06 2.06-.94-2.06-.94-.94-2.06-.94 2.06-2.06.94z\"/><path d=\"M17.41 7.96l-1.37-1.37c-.4-.4-.92-.59-1.43-.59-.52 0-1.04.2-1.43.59L10.3 9.45l-7.72 7.72c-.78.78-.78 2.05 0 2.83L4 21.41c.39.39.9.59 1.41.59.51 0 1.02-.2 1.41-.59l7.78-7.78 2.81-2.81c.8-.78.8-2.07 0-2.86zM5.41 20L4 18.59l7.72-7.72 1.47 1.35L5.41 20z\"/>\n",
              "  </svg>\n",
              "      </button>\n",
              "      \n",
              "  <style>\n",
              "    .colab-df-container {\n",
              "      display:flex;\n",
              "      flex-wrap:wrap;\n",
              "      gap: 12px;\n",
              "    }\n",
              "\n",
              "    .colab-df-convert {\n",
              "      background-color: #E8F0FE;\n",
              "      border: none;\n",
              "      border-radius: 50%;\n",
              "      cursor: pointer;\n",
              "      display: none;\n",
              "      fill: #1967D2;\n",
              "      height: 32px;\n",
              "      padding: 0 0 0 0;\n",
              "      width: 32px;\n",
              "    }\n",
              "\n",
              "    .colab-df-convert:hover {\n",
              "      background-color: #E2EBFA;\n",
              "      box-shadow: 0px 1px 2px rgba(60, 64, 67, 0.3), 0px 1px 3px 1px rgba(60, 64, 67, 0.15);\n",
              "      fill: #174EA6;\n",
              "    }\n",
              "\n",
              "    [theme=dark] .colab-df-convert {\n",
              "      background-color: #3B4455;\n",
              "      fill: #D2E3FC;\n",
              "    }\n",
              "\n",
              "    [theme=dark] .colab-df-convert:hover {\n",
              "      background-color: #434B5C;\n",
              "      box-shadow: 0px 1px 3px 1px rgba(0, 0, 0, 0.15);\n",
              "      filter: drop-shadow(0px 1px 2px rgba(0, 0, 0, 0.3));\n",
              "      fill: #FFFFFF;\n",
              "    }\n",
              "  </style>\n",
              "\n",
              "      <script>\n",
              "        const buttonEl =\n",
              "          document.querySelector('#df-234cef34-317f-4abd-a815-98297ecf6872 button.colab-df-convert');\n",
              "        buttonEl.style.display =\n",
              "          google.colab.kernel.accessAllowed ? 'block' : 'none';\n",
              "\n",
              "        async function convertToInteractive(key) {\n",
              "          const element = document.querySelector('#df-234cef34-317f-4abd-a815-98297ecf6872');\n",
              "          const dataTable =\n",
              "            await google.colab.kernel.invokeFunction('convertToInteractive',\n",
              "                                                     [key], {});\n",
              "          if (!dataTable) return;\n",
              "\n",
              "          const docLinkHtml = 'Like what you see? Visit the ' +\n",
              "            '<a target=\"_blank\" href=https://colab.research.google.com/notebooks/data_table.ipynb>data table notebook</a>'\n",
              "            + ' to learn more about interactive tables.';\n",
              "          element.innerHTML = '';\n",
              "          dataTable['output_type'] = 'display_data';\n",
              "          await google.colab.output.renderOutput(dataTable, element);\n",
              "          const docLink = document.createElement('div');\n",
              "          docLink.innerHTML = docLinkHtml;\n",
              "          element.appendChild(docLink);\n",
              "        }\n",
              "      </script>\n",
              "    </div>\n",
              "  </div>\n",
              "  "
            ]
          },
          "metadata": {},
          "execution_count": 7
        }
      ]
    },
    {
      "cell_type": "code",
      "source": [
        "# get list of feature columns\n",
        "featureDf= df.loc[:, ~df.columns.isin(['billStatus'])]\n",
        "featureDf.head()\n",
        "feature_cols = featureDf.columns.values.tolist()\n",
        "del featureDf\n",
        "print(feature_cols)"
      ],
      "metadata": {
        "colab": {
          "base_uri": "https://localhost:8080/"
        },
        "id": "N0mAfv6rfeFM",
        "outputId": "e174b281-815e-402a-8964-bc74d981f030"
      },
      "execution_count": 8,
      "outputs": [
        {
          "output_type": "stream",
          "name": "stdout",
          "text": [
            "['issponsorPartyMaj', 'cosponsors', 'cosponsorsMaj', 'leadershipRole', 'dwNominate', 'seniority', 'votesAgainstParty', 'policyArea_Agriculture and Food', 'policyArea_Animals', 'policyArea_Armed Forces and National Security', 'policyArea_Arts, Culture, Religion', 'policyArea_Civil Rights and Liberties, Minority Issues', 'policyArea_Commerce', 'policyArea_Congress', 'policyArea_Crime and Law Enforcement', 'policyArea_Economics and Public Finance', 'policyArea_Education', 'policyArea_Emergency Management', 'policyArea_Energy', 'policyArea_Environmental Protection', 'policyArea_Families', 'policyArea_Finance and Financial Sector', 'policyArea_Foreign Trade and International Finance', 'policyArea_Government Operations and Politics', 'policyArea_Health', 'policyArea_Housing and Community Development', 'policyArea_Immigration', 'policyArea_International Affairs', 'policyArea_Labor and Employment', 'policyArea_Law', 'policyArea_Native Americans', 'policyArea_Other', 'policyArea_Private Legislation', 'policyArea_Public Lands and Natural Resources', 'policyArea_Science, Technology, Communications', 'policyArea_Social Sciences and History', 'policyArea_Social Welfare', 'policyArea_Sports and Recreation', 'policyArea_Taxation', 'policyArea_Transportation and Public Works', 'policyArea_Water Resources Development']\n"
          ]
        }
      ]
    },
    {
      "cell_type": "code",
      "source": [
        "# replace NaN and inf in the dataset\n",
        "df['billStatus'] = df['billStatus'].fillna(0)\n",
        "df['billStatus'].replace([np.inf, -np.inf], 0, inplace = True)\n",
        "df['cosponsorsMaj'].replace(np.inf, 0, inplace = True)\n"
      ],
      "metadata": {
        "id": "0zDRFY1-icV2"
      },
      "execution_count": 10,
      "outputs": []
    },
    {
      "cell_type": "code",
      "source": [
        "# check which row has infinite numbers\n",
        "# x = 0\n",
        "# for row in np.isfinite(df['cosponsorsDem']):\n",
        "#   x += 1\n",
        "#   if row == False:\n",
        "#     print(x)"
      ],
      "metadata": {
        "id": "heHSfQOon-Gi"
      },
      "execution_count": 11,
      "outputs": []
    },
    {
      "cell_type": "code",
      "source": [
        "# output to file for dataset check before running models\n",
        "# df.to_csv(\"/for_test.csv\")"
      ],
      "metadata": {
        "id": "3KOdrZWKmyV7"
      },
      "execution_count": 12,
      "outputs": []
    },
    {
      "cell_type": "code",
      "source": [
        "# feature_cols = ['issponsorPartyD','cosponsors','cosponsorsDem','cosponsorsRep','leadershipRole','dwNominate','seniority']\n",
        "from sklearn.model_selection import train_test_split\n",
        "\n",
        "x = df[feature_cols]\n",
        "y = df.billStatus\n",
        "\n",
        "# split into train-test data\n",
        "\n",
        "x_train, x_test, y_train, y_test = train_test_split(x,y, \n",
        "                                   test_size=0.25, \n",
        "                                   shuffle=True)"
      ],
      "metadata": {
        "id": "9iNYbtRjfr3q"
      },
      "execution_count": 13,
      "outputs": []
    },
    {
      "cell_type": "code",
      "source": [
        "# get a rough idea of train test proportion\n",
        "print(y_train.sum())\n",
        "print(y_train.count())\n",
        "print(\"Ratio of passed bills in training set:\", round(y_train.sum()/y_train.count(),3))\n",
        "print(y_test.sum())\n",
        "print(y_test.count())\n",
        "print(\"Ratio of passed bills in test set:\", round(y_train.sum()/y_train.count(),3))"
      ],
      "metadata": {
        "colab": {
          "base_uri": "https://localhost:8080/"
        },
        "id": "ynPSPXQ51mkZ",
        "outputId": "6fe5247a-44a4-4158-933f-800d09b56c48"
      },
      "execution_count": 15,
      "outputs": [
        {
          "output_type": "stream",
          "name": "stdout",
          "text": [
            "1023\n",
            "10300\n",
            "Ratio of passed bills in training set: 0.099\n",
            "376\n",
            "3434\n",
            "Ratio of passed bills in test set: 0.099\n"
          ]
        }
      ]
    },
    {
      "cell_type": "markdown",
      "source": [
        "# Logistic Regression"
      ],
      "metadata": {
        "id": "r630HEkwKxYP"
      }
    },
    {
      "cell_type": "code",
      "source": [
        "log = LogisticRegression(max_iter=1500)\n",
        "log.fit(x_train, y_train)\n",
        "y_pred = log.predict(x_test)"
      ],
      "metadata": {
        "id": "YPa29SYFGZZr"
      },
      "execution_count": 16,
      "outputs": []
    },
    {
      "cell_type": "code",
      "source": [
        "def printMetrics(y_test, y_pred):\n",
        "  print(\"Accuracy:\",metrics.accuracy_score(y_test, y_pred))\n",
        "  print(\"Recall:\",metrics.recall_score(y_test,y_pred))\n",
        "  print(confusion_matrix(y_test, y_pred))\n",
        "  print(classification_report(y_test, y_pred))\n",
        "\n",
        "printMetrics(y_test, y_pred)"
      ],
      "metadata": {
        "colab": {
          "base_uri": "https://localhost:8080/"
        },
        "id": "a0IVKBDvHPnX",
        "outputId": "64be1391-c40b-41ce-e7e9-92609652be5b"
      },
      "execution_count": 17,
      "outputs": [
        {
          "output_type": "stream",
          "name": "stdout",
          "text": [
            "Accuracy: 0.8907979033197437\n",
            "Recall: 0.007978723404255319\n",
            "[[3056    2]\n",
            " [ 373    3]]\n",
            "              precision    recall  f1-score   support\n",
            "\n",
            "           0       0.89      1.00      0.94      3058\n",
            "           1       0.60      0.01      0.02       376\n",
            "\n",
            "    accuracy                           0.89      3434\n",
            "   macro avg       0.75      0.50      0.48      3434\n",
            "weighted avg       0.86      0.89      0.84      3434\n",
            "\n"
          ]
        }
      ]
    },
    {
      "cell_type": "code",
      "source": [
        "auc = metrics.roc_auc_score(y_test, y_pred)\n",
        "print(auc)"
      ],
      "metadata": {
        "colab": {
          "base_uri": "https://localhost:8080/"
        },
        "id": "MJsF0Om-H5W8",
        "outputId": "c923d5cd-cf04-4026-bff7-28cc1dde0e2c"
      },
      "execution_count": 18,
      "outputs": [
        {
          "output_type": "stream",
          "name": "stdout",
          "text": [
            "0.5036623505837498\n"
          ]
        }
      ]
    },
    {
      "cell_type": "code",
      "source": [
        "false_positive_rate, true_positive_rate, thresolds = metrics.roc_curve(y_test, y_pred)\n",
        "\n",
        "plt.figure(figsize=(5, 5), dpi=100)\n",
        "plt.axis('scaled')\n",
        "plt.xlim([0, 1])\n",
        "plt.ylim([0, 1])\n",
        "plt.title(\"AUC & ROC Curve\")\n",
        "plt.plot(false_positive_rate, true_positive_rate, 'g')\n",
        "plt.fill_between(false_positive_rate, true_positive_rate, facecolor='lightgreen', alpha=0.7)\n",
        "plt.text(0.95, 0.05, 'AUC = %0.4f' % auc, ha='right', fontsize=12, weight='bold', color='blue')\n",
        "plt.xlabel(\"False Positive Rate\")\n",
        "plt.ylabel(\"True Positive Rate\")\n",
        "plt.show()"
      ],
      "metadata": {
        "colab": {
          "base_uri": "https://localhost:8080/",
          "height": 480
        },
        "id": "lRwF-SA0H74D",
        "outputId": "99b9be13-2d43-4143-d30f-ee65c8f0d37c"
      },
      "execution_count": 19,
      "outputs": [
        {
          "output_type": "display_data",
          "data": {
            "text/plain": [
              "<Figure size 500x500 with 1 Axes>"
            ],
            "image/png": "[encoded data removed]"
          },
          "metadata": {
            "needs_background": "light"
          }
        }
      ]
    },
    {
      "cell_type": "markdown",
      "source": [
        "# Decision Tree"
      ],
      "metadata": {
        "id": "41D-Mk2_Kz0D"
      }
    },
    {
      "cell_type": "code",
      "source": [
        "# Create Decision Tree classifer object\n",
        "clf = DecisionTreeClassifier()\n",
        "\n",
        "# Train Decision Tree Classifer\n",
        "clf = clf.fit(x_train,y_train)\n",
        "\n",
        "#Predict the response for test dataset\n",
        "y_pred = clf.predict(x_test)"
      ],
      "metadata": {
        "id": "MhIo1Sjz1LRV"
      },
      "execution_count": 20,
      "outputs": []
    },
    {
      "cell_type": "code",
      "source": [
        "printMetrics(y_test, y_pred)\n",
        "print(\"Max Depth:\",clf.tree_.max_depth)\n",
        "print(\"Node Count:\",clf.tree_.node_count)"
      ],
      "metadata": {
        "colab": {
          "base_uri": "https://localhost:8080/"
        },
        "id": "bOQBq0DNgZUU",
        "outputId": "c851592a-3b89-4689-dc3a-d9d6f498fb4b"
      },
      "execution_count": 21,
      "outputs": [
        {
          "output_type": "stream",
          "name": "stdout",
          "text": [
            "Accuracy: 0.8465346534653465\n",
            "Recall: 0.29521276595744683\n",
            "[[2796  262]\n",
            " [ 265  111]]\n",
            "              precision    recall  f1-score   support\n",
            "\n",
            "           0       0.91      0.91      0.91      3058\n",
            "           1       0.30      0.30      0.30       376\n",
            "\n",
            "    accuracy                           0.85      3434\n",
            "   macro avg       0.61      0.60      0.61      3434\n",
            "weighted avg       0.85      0.85      0.85      3434\n",
            "\n",
            "Max Depth: 37\n",
            "Node Count: 2497\n"
          ]
        }
      ]
    },
    {
      "cell_type": "code",
      "source": [
        "auc = metrics.roc_auc_score(y_test, y_pred)\n",
        "print(auc)"
      ],
      "metadata": {
        "colab": {
          "base_uri": "https://localhost:8080/"
        },
        "id": "kMkO4RaW_kaD",
        "outputId": "96641467-032c-44d0-baa2-5f0957763551"
      },
      "execution_count": 22,
      "outputs": [
        {
          "output_type": "stream",
          "name": "stdout",
          "text": [
            "0.6047679264712021\n"
          ]
        }
      ]
    },
    {
      "cell_type": "code",
      "source": [
        "false_positive_rate, true_positive_rate, thresolds = metrics.roc_curve(y_test, y_pred)\n",
        "\n",
        "plt.figure(figsize=(5, 5), dpi=100)\n",
        "plt.axis('scaled')\n",
        "plt.xlim([0, 1])\n",
        "plt.ylim([0, 1])\n",
        "plt.title(\"AUC & ROC Curve\")\n",
        "plt.plot(false_positive_rate, true_positive_rate, 'g')\n",
        "plt.fill_between(false_positive_rate, true_positive_rate, facecolor='lightgreen', alpha=0.7)\n",
        "plt.text(0.95, 0.05, 'AUC = %0.4f' % auc, ha='right', fontsize=12, weight='bold', color='blue')\n",
        "plt.xlabel(\"False Positive Rate\")\n",
        "plt.ylabel(\"True Positive Rate\")\n",
        "plt.show()"
      ],
      "metadata": {
        "colab": {
          "base_uri": "https://localhost:8080/",
          "height": 480
        },
        "id": "6UDO9Q3GBp8L",
        "outputId": "aaba7de1-d14c-4bc2-df29-b0bea5d120e9"
      },
      "execution_count": 23,
      "outputs": [
        {
          "output_type": "display_data",
          "data": {
            "text/plain": [
              "<Figure size 500x500 with 1 Axes>"
            ],
            "image/png": "[encoded data removed]"
          },
          "metadata": {
            "needs_background": "light"
          }
        }
      ]
    },
    {
      "cell_type": "markdown",
      "source": [
        "# Random Forest"
      ],
      "metadata": {
        "id": "CUtdFtifK1wW"
      }
    },
    {
      "cell_type": "code",
      "source": [
        "forest = RandomForestClassifier(n_estimators = 10)\n",
        "forest.fit(x_train, y_train)\n",
        "y_pred = forest.predict(x_test)"
      ],
      "metadata": {
        "id": "Cow7Z22NINoL"
      },
      "execution_count": 24,
      "outputs": []
    },
    {
      "cell_type": "code",
      "source": [
        "printMetrics(y_test, y_pred)"
      ],
      "metadata": {
        "colab": {
          "base_uri": "https://localhost:8080/"
        },
        "id": "6MghL23sJ21m",
        "outputId": "e4945289-4ff3-49cd-c888-73ca9711ef5e"
      },
      "execution_count": 25,
      "outputs": [
        {
          "output_type": "stream",
          "name": "stdout",
          "text": [
            "Accuracy: 0.890215492137449\n",
            "Recall: 0.15159574468085107\n",
            "[[3000   58]\n",
            " [ 319   57]]\n",
            "              precision    recall  f1-score   support\n",
            "\n",
            "           0       0.90      0.98      0.94      3058\n",
            "           1       0.50      0.15      0.23       376\n",
            "\n",
            "    accuracy                           0.89      3434\n",
            "   macro avg       0.70      0.57      0.59      3434\n",
            "weighted avg       0.86      0.89      0.86      3434\n",
            "\n"
          ]
        }
      ]
    },
    {
      "cell_type": "code",
      "source": [
        "auc = metrics.roc_auc_score(y_test, y_pred)\n",
        "print(auc)"
      ],
      "metadata": {
        "colab": {
          "base_uri": "https://localhost:8080/"
        },
        "id": "9VMPrO9jKV3O",
        "outputId": "bd8f84d9-182b-4afe-bdeb-63514f22b7ad"
      },
      "execution_count": 26,
      "outputs": [
        {
          "output_type": "stream",
          "name": "stdout",
          "text": [
            "0.5663145499074629\n"
          ]
        }
      ]
    },
    {
      "cell_type": "code",
      "source": [
        "false_positive_rate, true_positive_rate, thresolds = metrics.roc_curve(y_test, y_pred)\n",
        "\n",
        "plt.figure(figsize=(5, 5), dpi=100)\n",
        "plt.axis('scaled')\n",
        "plt.xlim([0, 1])\n",
        "plt.ylim([0, 1])\n",
        "plt.title(\"AUC & ROC Curve\")\n",
        "plt.plot(false_positive_rate, true_positive_rate, 'g')\n",
        "plt.fill_between(false_positive_rate, true_positive_rate, facecolor='lightgreen', alpha=0.7)\n",
        "plt.text(0.95, 0.05, 'AUC = %0.4f' % auc, ha='right', fontsize=12, weight='bold', color='blue')\n",
        "plt.xlabel(\"False Positive Rate\")\n",
        "plt.ylabel(\"True Positive Rate\")\n",
        "plt.show()"
      ],
      "metadata": {
        "colab": {
          "base_uri": "https://localhost:8080/",
          "height": 480
        },
        "id": "dNJOGxfWKYMR",
        "outputId": "16f5473a-0524-4704-9bdb-910028d19119"
      },
      "execution_count": 27,
      "outputs": [
        {
          "output_type": "display_data",
          "data": {
            "text/plain": [
              "<Figure size 500x500 with 1 Axes>"
            ],
            "image/png": "[encoded data removed]"
          },
          "metadata": {
            "needs_background": "light"
          }
        }
      ]
    },
    {
      "cell_type": "code",
      "source": [
        "# using graphviz\n",
        "# import graphviz\n",
        "\n",
        "# dot_data = tree.export_graphviz(clf, out_file=None)\n",
        "# graph = graphviz.Source(dot_data)\n",
        "# graph"
      ],
      "metadata": {
        "id": "9XOqrQ0Q1S0z"
      },
      "execution_count": 28,
      "outputs": []
    },
    {
      "cell_type": "code",
      "source": [
        "# plt.figure(figsize=(10,10))\n",
        "# a = plot_tree(clf, \n",
        "#               feature_names=feature_cols, \n",
        "#               class_names=True, \n",
        "#               filled=True, \n",
        "#               rounded=True, \n",
        "#               fontsize=14)"
      ],
      "metadata": {
        "id": "f2UWr9WJxSI0"
      },
      "execution_count": 29,
      "outputs": []
    },
    {
      "cell_type": "code",
      "source": [],
      "metadata": {
        "id": "m97-ULePmCvB"
      },
      "execution_count": null,
      "outputs": []
    }
  ]
}